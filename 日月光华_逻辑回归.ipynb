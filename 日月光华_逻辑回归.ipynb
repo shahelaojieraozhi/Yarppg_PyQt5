{
 "cells": [
  {
   "cell_type": "code",
   "execution_count": 1,
   "metadata": {
    "_cell_guid": "b1076dfc-b9ad-4769-8c92-a6c4dae69d19",
    "_uuid": "8f2839f25d086af736a60e9eeb907d3b93b6e0e5",
    "execution": {
     "iopub.execute_input": "2022-07-20T06:01:36.313148Z",
     "iopub.status.busy": "2022-07-20T06:01:36.312657Z",
     "iopub.status.idle": "2022-07-20T06:01:36.342231Z",
     "shell.execute_reply": "2022-07-20T06:01:36.341329Z",
     "shell.execute_reply.started": "2022-07-20T06:01:36.313056Z"
    }
   },
   "outputs": [],
   "source": [
    "import numpy as np # linear algebra\n",
    "import pandas as pd # data processing, CSV file I/O (e.g. pd.read_csv)\n",
    "import os\n"
   ]
  },
  {
   "cell_type": "code",
   "execution_count": 2,
   "metadata": {
    "execution": {
     "iopub.execute_input": "2022-07-20T06:01:45.312006Z",
     "iopub.status.busy": "2022-07-20T06:01:45.311556Z",
     "iopub.status.idle": "2022-07-20T06:01:45.327357Z",
     "shell.execute_reply": "2022-07-20T06:01:45.326434Z",
     "shell.execute_reply.started": "2022-07-20T06:01:45.311966Z"
    }
   },
   "outputs": [],
   "source": [
    "%config Completer.use_jedi = False"
   ]
  },
  {
   "cell_type": "code",
   "execution_count": 3,
   "metadata": {
    "execution": {
     "iopub.execute_input": "2022-07-20T06:01:50.844816Z",
     "iopub.status.busy": "2022-07-20T06:01:50.844406Z",
     "iopub.status.idle": "2022-07-20T06:02:00.094401Z",
     "shell.execute_reply": "2022-07-20T06:02:00.093182Z",
     "shell.execute_reply.started": "2022-07-20T06:01:50.844781Z"
    }
   },
   "outputs": [
    {
     "ename": "ModuleNotFoundError",
     "evalue": "No module named 'tensorflow'",
     "output_type": "error",
     "traceback": [
      "\u001b[1;31m---------------------------------------------------------------------------\u001b[0m",
      "\u001b[1;31mModuleNotFoundError\u001b[0m                       Traceback (most recent call last)",
      "Input \u001b[1;32mIn [3]\u001b[0m, in \u001b[0;36m<cell line: 1>\u001b[1;34m()\u001b[0m\n\u001b[1;32m----> 1\u001b[0m \u001b[38;5;28;01mimport\u001b[39;00m \u001b[38;5;21;01mtensorflow\u001b[39;00m \u001b[38;5;28;01mas\u001b[39;00m \u001b[38;5;21;01mtf\u001b[39;00m\n\u001b[0;32m      2\u001b[0m \u001b[38;5;28;01mimport\u001b[39;00m \u001b[38;5;21;01mmatplotlib\u001b[39;00m\u001b[38;5;21;01m.\u001b[39;00m\u001b[38;5;21;01mpyplot\u001b[39;00m \u001b[38;5;28;01mas\u001b[39;00m \u001b[38;5;21;01mplt\u001b[39;00m\n",
      "\u001b[1;31mModuleNotFoundError\u001b[0m: No module named 'tensorflow'"
     ]
    }
   ],
   "source": [
    "import tensorflow as tf\n",
    "import matplotlib.pyplot as plt"
   ]
  },
  {
   "cell_type": "code",
   "execution_count": 23,
   "metadata": {
    "execution": {
     "iopub.execute_input": "2022-07-20T06:17:33.123112Z",
     "iopub.status.busy": "2022-07-20T06:17:33.122680Z",
     "iopub.status.idle": "2022-07-20T06:17:33.158153Z",
     "shell.execute_reply": "2022-07-20T06:17:33.157262Z",
     "shell.execute_reply.started": "2022-07-20T06:17:33.123080Z"
    }
   },
   "outputs": [],
   "source": [
    "data = pd.read_csv('../input/tf-dataset/credit-a.csv', header=None)\n",
    "data"
   ]
  },
  {
   "cell_type": "code",
   "execution_count": 24,
   "metadata": {
    "execution": {
     "iopub.execute_input": "2022-07-20T06:17:37.119896Z",
     "iopub.status.busy": "2022-07-20T06:17:37.119470Z",
     "iopub.status.idle": "2022-07-20T06:17:37.129077Z",
     "shell.execute_reply": "2022-07-20T06:17:37.128049Z",
     "shell.execute_reply.started": "2022-07-20T06:17:37.119854Z"
    }
   },
   "outputs": [],
   "source": [
    "# 看一下标签的比例\n",
    "data.iloc[:,-1].value_counts()"
   ]
  },
  {
   "cell_type": "code",
   "execution_count": 26,
   "metadata": {
    "execution": {
     "iopub.execute_input": "2022-07-20T06:17:47.904918Z",
     "iopub.status.busy": "2022-07-20T06:17:47.904484Z",
     "iopub.status.idle": "2022-07-20T06:17:47.914954Z",
     "shell.execute_reply": "2022-07-20T06:17:47.914056Z",
     "shell.execute_reply.started": "2022-07-20T06:17:47.904867Z"
    }
   },
   "outputs": [],
   "source": [
    "# 把数据分成特征和标签，并且把标签的-1变成0（如果是SVM的话，-1和1合适？）\n",
    "x = data.iloc[:,:-1]\n",
    "y = data.iloc[:,-1].replace(-1,0)\n",
    "y"
   ]
  },
  {
   "cell_type": "code",
   "execution_count": 27,
   "metadata": {
    "execution": {
     "iopub.execute_input": "2022-07-20T06:17:50.825938Z",
     "iopub.status.busy": "2022-07-20T06:17:50.825508Z",
     "iopub.status.idle": "2022-07-20T06:17:50.867406Z",
     "shell.execute_reply": "2022-07-20T06:17:50.866058Z",
     "shell.execute_reply.started": "2022-07-20T06:17:50.825887Z"
    }
   },
   "outputs": [],
   "source": [
    "model = tf.keras.Sequential()\n",
    "model.add(tf.keras.layers.Dense(4, input_shape=(15,),activation='relu'))\n",
    "model.add(tf.keras.layers.Dense(4,activation='relu'))\n",
    "model.add(tf.keras.layers.Dense(1,activation='sigmoid'))\n",
    "model.summary()"
   ]
  },
  {
   "cell_type": "code",
   "execution_count": 28,
   "metadata": {
    "execution": {
     "iopub.execute_input": "2022-07-20T06:17:53.775140Z",
     "iopub.status.busy": "2022-07-20T06:17:53.774457Z",
     "iopub.status.idle": "2022-07-20T06:17:53.785578Z",
     "shell.execute_reply": "2022-07-20T06:17:53.784351Z",
     "shell.execute_reply.started": "2022-07-20T06:17:53.775102Z"
    }
   },
   "outputs": [],
   "source": [
    "model.compile(optimizer='adam',\n",
    "             loss='binary_crossentropy',\n",
    "             metrics=['acc']\n",
    ")"
   ]
  },
  {
   "cell_type": "code",
   "execution_count": 29,
   "metadata": {
    "execution": {
     "iopub.execute_input": "2022-07-20T06:17:57.260258Z",
     "iopub.status.busy": "2022-07-20T06:17:57.259887Z",
     "iopub.status.idle": "2022-07-20T06:18:01.264794Z",
     "shell.execute_reply": "2022-07-20T06:18:01.263862Z",
     "shell.execute_reply.started": "2022-07-20T06:17:57.260227Z"
    }
   },
   "outputs": [],
   "source": [
    "history = model.fit(x, y, epochs=100)"
   ]
  },
  {
   "cell_type": "code",
   "execution_count": 30,
   "metadata": {
    "execution": {
     "iopub.execute_input": "2022-07-20T06:18:07.948715Z",
     "iopub.status.busy": "2022-07-20T06:18:07.948352Z",
     "iopub.status.idle": "2022-07-20T06:18:07.954641Z",
     "shell.execute_reply": "2022-07-20T06:18:07.953882Z",
     "shell.execute_reply.started": "2022-07-20T06:18:07.948686Z"
    }
   },
   "outputs": [],
   "source": [
    "# 查看一下history的关键字\n",
    "history.history.keys()\n",
    "# dict_keys(['loss', 'acc'])"
   ]
  },
  {
   "cell_type": "code",
   "execution_count": 31,
   "metadata": {
    "execution": {
     "iopub.execute_input": "2022-07-20T06:18:11.966421Z",
     "iopub.status.busy": "2022-07-20T06:18:11.966008Z",
     "iopub.status.idle": "2022-07-20T06:18:12.141339Z",
     "shell.execute_reply": "2022-07-20T06:18:12.140348Z",
     "shell.execute_reply.started": "2022-07-20T06:18:11.966387Z"
    }
   },
   "outputs": [],
   "source": [
    "plt.plot(history.epoch, history.history.get('loss'))"
   ]
  },
  {
   "cell_type": "code",
   "execution_count": 32,
   "metadata": {
    "execution": {
     "iopub.execute_input": "2022-07-20T06:18:42.370752Z",
     "iopub.status.busy": "2022-07-20T06:18:42.370361Z",
     "iopub.status.idle": "2022-07-20T06:18:42.545352Z",
     "shell.execute_reply": "2022-07-20T06:18:42.544479Z",
     "shell.execute_reply.started": "2022-07-20T06:18:42.370710Z"
    }
   },
   "outputs": [],
   "source": [
    "plt.plot(history.epoch, history.history.get('acc'))"
   ]
  }
 ],
 "metadata": {
  "kernelspec": {
   "display_name": "Python 3 (ipykernel)",
   "language": "python",
   "name": "python3"
  },
  "language_info": {
   "codemirror_mode": {
    "name": "ipython",
    "version": 3
   },
   "file_extension": ".py",
   "mimetype": "text/x-python",
   "name": "python",
   "nbconvert_exporter": "python",
   "pygments_lexer": "ipython3",
   "version": "3.9.12"
  }
 },
 "nbformat": 4,
 "nbformat_minor": 4
}
