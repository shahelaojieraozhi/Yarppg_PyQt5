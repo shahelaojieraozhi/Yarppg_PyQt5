{
 "cells": [
  {
   "cell_type": "code",
   "execution_count": 1,
   "metadata": {
    "_cell_guid": "b1076dfc-b9ad-4769-8c92-a6c4dae69d19",
    "_uuid": "8f2839f25d086af736a60e9eeb907d3b93b6e0e5",
    "execution": {
     "iopub.execute_input": "2022-07-25T03:27:59.858322Z",
     "iopub.status.busy": "2022-07-25T03:27:59.857817Z",
     "iopub.status.idle": "2022-07-25T03:28:01.978277Z",
     "shell.execute_reply": "2022-07-25T03:28:01.976957Z",
     "shell.execute_reply.started": "2022-07-25T03:27:59.858222Z"
    }
   },
   "outputs": [
    {
     "ename": "ModuleNotFoundError",
     "evalue": "No module named 'torch'",
     "output_type": "error",
     "traceback": [
      "\u001b[1;31m---------------------------------------------------------------------------\u001b[0m",
      "\u001b[1;31mModuleNotFoundError\u001b[0m                       Traceback (most recent call last)",
      "Input \u001b[1;32mIn [1]\u001b[0m, in \u001b[0;36m<cell line: 3>\u001b[1;34m()\u001b[0m\n\u001b[0;32m      1\u001b[0m \u001b[38;5;28;01mimport\u001b[39;00m \u001b[38;5;21;01mnumpy\u001b[39;00m \u001b[38;5;28;01mas\u001b[39;00m \u001b[38;5;21;01mnp\u001b[39;00m \u001b[38;5;66;03m# linear algebra\u001b[39;00m\n\u001b[0;32m      2\u001b[0m \u001b[38;5;28;01mimport\u001b[39;00m \u001b[38;5;21;01mpandas\u001b[39;00m \u001b[38;5;28;01mas\u001b[39;00m \u001b[38;5;21;01mpd\u001b[39;00m \u001b[38;5;66;03m# data processing, CSV file I/O (e.g. pd.read_csv)\u001b[39;00m\n\u001b[1;32m----> 3\u001b[0m \u001b[38;5;28;01mimport\u001b[39;00m \u001b[38;5;21;01mtorch\u001b[39;00m\n\u001b[0;32m      4\u001b[0m \u001b[38;5;28;01mimport\u001b[39;00m \u001b[38;5;21;01mmatplotlib\u001b[39;00m\u001b[38;5;21;01m.\u001b[39;00m\u001b[38;5;21;01mpyplot\u001b[39;00m \u001b[38;5;28;01mas\u001b[39;00m \u001b[38;5;21;01mplt\u001b[39;00m\n",
      "\u001b[1;31mModuleNotFoundError\u001b[0m: No module named 'torch'"
     ]
    }
   ],
   "source": [
    "import numpy as np # linear algebra\n",
    "import pandas as pd # data processing, CSV file I/O (e.g. pd.read_csv)\n",
    "import torch\n",
    "import matplotlib.pyplot as plt"
   ]
  },
  {
   "cell_type": "code",
   "execution_count": 15,
   "metadata": {
    "collapsed": true,
    "execution": {
     "iopub.execute_input": "2022-07-25T03:51:26.829006Z",
     "iopub.status.busy": "2022-07-25T03:51:26.828526Z",
     "iopub.status.idle": "2022-07-25T03:51:26.853740Z",
     "shell.execute_reply": "2022-07-25T03:51:26.852421Z",
     "shell.execute_reply.started": "2022-07-25T03:51:26.828968Z"
    },
    "jupyter": {
     "outputs_hidden": true
    }
   },
   "outputs": [],
   "source": [
    "data = pd.read_csv('../input/tf-dataset/Income1.csv')\n",
    "data"
   ]
  },
  {
   "cell_type": "code",
   "execution_count": 6,
   "metadata": {
    "execution": {
     "iopub.execute_input": "2022-07-24T07:38:31.182272Z",
     "iopub.status.busy": "2022-07-24T07:38:31.181326Z",
     "iopub.status.idle": "2022-07-24T07:38:31.209943Z",
     "shell.execute_reply": "2022-07-24T07:38:31.208944Z",
     "shell.execute_reply.started": "2022-07-24T07:38:31.182219Z"
    }
   },
   "outputs": [],
   "source": [
    "data.info"
   ]
  },
  {
   "cell_type": "code",
   "execution_count": 3,
   "metadata": {
    "execution": {
     "iopub.execute_input": "2022-07-25T03:37:20.405950Z",
     "iopub.status.busy": "2022-07-25T03:37:20.405471Z",
     "iopub.status.idle": "2022-07-25T03:37:20.411792Z",
     "shell.execute_reply": "2022-07-25T03:37:20.410444Z",
     "shell.execute_reply.started": "2022-07-25T03:37:20.405914Z"
    }
   },
   "outputs": [],
   "source": [
    "from torch import nn\n",
    "# "
   ]
  },
  {
   "cell_type": "markdown",
   "metadata": {},
   "source": [
    "**数据预处理**\n",
    "\n",
    "pytorch 默认处理tensor类型数据\n",
    "我们现在用pandas读取数据是pandas方法的series，先把它转成numpy方法的series再转成tensor类型"
   ]
  },
  {
   "cell_type": "code",
   "execution_count": 16,
   "metadata": {
    "execution": {
     "iopub.execute_input": "2022-07-25T03:51:35.912745Z",
     "iopub.status.busy": "2022-07-25T03:51:35.912201Z",
     "iopub.status.idle": "2022-07-25T03:51:35.918945Z",
     "shell.execute_reply": "2022-07-25T03:51:35.917334Z",
     "shell.execute_reply.started": "2022-07-25T03:51:35.912702Z"
    }
   },
   "outputs": [],
   "source": [
    "# pytorch 默认处理tensor类型数据\n",
    "X = data.Education"
   ]
  },
  {
   "cell_type": "code",
   "execution_count": 17,
   "metadata": {
    "execution": {
     "iopub.execute_input": "2022-07-25T03:51:39.441708Z",
     "iopub.status.busy": "2022-07-25T03:51:39.441206Z",
     "iopub.status.idle": "2022-07-25T03:51:39.449972Z",
     "shell.execute_reply": "2022-07-25T03:51:39.448255Z",
     "shell.execute_reply.started": "2022-07-25T03:51:39.441666Z"
    }
   },
   "outputs": [],
   "source": [
    "data.Education.values\n",
    "# 返回array类型"
   ]
  },
  {
   "cell_type": "code",
   "execution_count": 18,
   "metadata": {
    "collapsed": true,
    "execution": {
     "iopub.execute_input": "2022-07-25T03:51:44.283298Z",
     "iopub.status.busy": "2022-07-25T03:51:44.282822Z",
     "iopub.status.idle": "2022-07-25T03:51:44.293178Z",
     "shell.execute_reply": "2022-07-25T03:51:44.291402Z",
     "shell.execute_reply.started": "2022-07-25T03:51:44.283261Z"
    },
    "jupyter": {
     "outputs_hidden": true
    }
   },
   "outputs": [],
   "source": [
    "# data.Education.values 相当于把pandas的series转换成了numpy的series\n",
    "data1 = data.Education.values.reshape(-1, 1).astype(np.float32)\n",
    "data1"
   ]
  },
  {
   "cell_type": "code",
   "execution_count": 19,
   "metadata": {
    "execution": {
     "iopub.execute_input": "2022-07-25T03:51:58.650082Z",
     "iopub.status.busy": "2022-07-25T03:51:58.649357Z",
     "iopub.status.idle": "2022-07-25T03:51:58.659466Z",
     "shell.execute_reply": "2022-07-25T03:51:58.657921Z",
     "shell.execute_reply.started": "2022-07-25T03:51:58.650029Z"
    }
   },
   "outputs": [],
   "source": [
    "X = torch.from_numpy(data1)\n",
    "X"
   ]
  },
  {
   "cell_type": "code",
   "execution_count": 20,
   "metadata": {
    "execution": {
     "iopub.execute_input": "2022-07-25T03:52:12.610563Z",
     "iopub.status.busy": "2022-07-25T03:52:12.610117Z",
     "iopub.status.idle": "2022-07-25T03:52:12.620373Z",
     "shell.execute_reply": "2022-07-25T03:52:12.618778Z",
     "shell.execute_reply.started": "2022-07-25T03:52:12.610531Z"
    }
   },
   "outputs": [],
   "source": [
    "data2 = data.Income.values.reshape(-1, 1).astype(np.float32)\n",
    "data2"
   ]
  },
  {
   "cell_type": "code",
   "execution_count": 21,
   "metadata": {
    "execution": {
     "iopub.execute_input": "2022-07-25T03:52:14.846101Z",
     "iopub.status.busy": "2022-07-25T03:52:14.845341Z",
     "iopub.status.idle": "2022-07-25T03:52:14.853959Z",
     "shell.execute_reply": "2022-07-25T03:52:14.852956Z",
     "shell.execute_reply.started": "2022-07-25T03:52:14.846060Z"
    }
   },
   "outputs": [],
   "source": [
    "Y = torch.from_numpy(data2)\n",
    "Y"
   ]
  },
  {
   "cell_type": "code",
   "execution_count": 22,
   "metadata": {
    "execution": {
     "iopub.execute_input": "2022-07-25T03:52:18.116934Z",
     "iopub.status.busy": "2022-07-25T03:52:18.115744Z",
     "iopub.status.idle": "2022-07-25T03:52:18.122920Z",
     "shell.execute_reply": "2022-07-25T03:52:18.121900Z",
     "shell.execute_reply.started": "2022-07-25T03:52:18.116842Z"
    }
   },
   "outputs": [],
   "source": [
    "model = nn.Linear(1, 1)\n",
    "# 相当于out =  w*Input + b\n",
    "# Linear会随机产生一个权重w和一个bias  等价于model(input)"
   ]
  },
  {
   "cell_type": "code",
   "execution_count": 23,
   "metadata": {
    "execution": {
     "iopub.execute_input": "2022-07-25T03:52:20.443370Z",
     "iopub.status.busy": "2022-07-25T03:52:20.442948Z",
     "iopub.status.idle": "2022-07-25T03:52:20.448414Z",
     "shell.execute_reply": "2022-07-25T03:52:20.447165Z",
     "shell.execute_reply.started": "2022-07-25T03:52:20.443337Z"
    }
   },
   "outputs": [],
   "source": [
    "loss_fn = nn.MSELoss() # 因为它是个类所以加个括号"
   ]
  },
  {
   "cell_type": "code",
   "execution_count": 24,
   "metadata": {
    "execution": {
     "iopub.execute_input": "2022-07-25T03:52:28.008522Z",
     "iopub.status.busy": "2022-07-25T03:52:28.008031Z",
     "iopub.status.idle": "2022-07-25T03:52:28.014366Z",
     "shell.execute_reply": "2022-07-25T03:52:28.013060Z",
     "shell.execute_reply.started": "2022-07-25T03:52:28.008481Z"
    }
   },
   "outputs": [],
   "source": [
    "# 优化算法\n",
    "opt = torch.optim.SGD(model.parameters(), lr = 0.0001)"
   ]
  },
  {
   "cell_type": "code",
   "execution_count": 25,
   "metadata": {
    "execution": {
     "iopub.execute_input": "2022-07-25T03:52:31.812981Z",
     "iopub.status.busy": "2022-07-25T03:52:31.812472Z",
     "iopub.status.idle": "2022-07-25T03:52:59.131781Z",
     "shell.execute_reply": "2022-07-25T03:52:59.130648Z",
     "shell.execute_reply.started": "2022-07-25T03:52:31.812945Z"
    }
   },
   "outputs": [],
   "source": [
    "# epoch 代表一次训练全部数据\n",
    "for epoch in range(5000):\n",
    "    for x, y in zip(X, Y):\n",
    "        y_pred = model(x)          # 使用模型预测 \n",
    "        loss = loss_fn(y, y_pred)  # 根据预测结果计算损失\n",
    "        opt.zero_grad()            # 把变量梯度清0\n",
    "        loss.backward()            # 求解梯度\n",
    "        opt.step()                 # 优化模型参数"
   ]
  },
  {
   "cell_type": "code",
   "execution_count": 26,
   "metadata": {
    "execution": {
     "iopub.execute_input": "2022-07-25T03:53:17.467642Z",
     "iopub.status.busy": "2022-07-25T03:53:17.467193Z",
     "iopub.status.idle": "2022-07-25T03:53:17.477768Z",
     "shell.execute_reply": "2022-07-25T03:53:17.476420Z",
     "shell.execute_reply.started": "2022-07-25T03:53:17.467608Z"
    }
   },
   "outputs": [],
   "source": [
    "model.weight"
   ]
  },
  {
   "cell_type": "code",
   "execution_count": 27,
   "metadata": {
    "execution": {
     "iopub.execute_input": "2022-07-25T03:53:35.700225Z",
     "iopub.status.busy": "2022-07-25T03:53:35.699724Z",
     "iopub.status.idle": "2022-07-25T03:53:35.709926Z",
     "shell.execute_reply": "2022-07-25T03:53:35.708211Z",
     "shell.execute_reply.started": "2022-07-25T03:53:35.700183Z"
    }
   },
   "outputs": [],
   "source": [
    "model.bias"
   ]
  },
  {
   "cell_type": "code",
   "execution_count": 30,
   "metadata": {
    "execution": {
     "iopub.execute_input": "2022-07-25T03:59:22.766082Z",
     "iopub.status.busy": "2022-07-25T03:59:22.765559Z",
     "iopub.status.idle": "2022-07-25T03:59:22.964450Z",
     "shell.execute_reply": "2022-07-25T03:59:22.963067Z",
     "shell.execute_reply.started": "2022-07-25T03:59:22.766041Z"
    }
   },
   "outputs": [],
   "source": [
    "plt.scatter(data.Education, data.Income)\n",
    "# X.numpy()能把tensor转换成numpy类型，不然画不了图\n",
    "plt.plot(X.numpy(), model(X).data.numpy(), c='r')\n",
    "# model(X)里面还有梯度信息，我们只要提取出data"
   ]
  }
 ],
 "metadata": {
  "kernelspec": {
   "display_name": "Python 3 (ipykernel)",
   "language": "python",
   "name": "python3"
  },
  "language_info": {
   "codemirror_mode": {
    "name": "ipython",
    "version": 3
   },
   "file_extension": ".py",
   "mimetype": "text/x-python",
   "name": "python",
   "nbconvert_exporter": "python",
   "pygments_lexer": "ipython3",
   "version": "3.9.12"
  }
 },
 "nbformat": 4,
 "nbformat_minor": 4
}
